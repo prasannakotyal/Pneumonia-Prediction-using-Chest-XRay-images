{
 "cells": [
  {
   "cell_type": "code",
   "execution_count": 17,
   "id": "a6a8f96c",
   "metadata": {},
   "outputs": [],
   "source": [
    "from keras.models import Model\n",
    "from keras.layers import Flatten,Dense\n",
    "from keras.applications.vgg16 import VGG16\n",
    "import matplotlib.pyplot as plot\n",
    "from glob import glob\n"
   ]
  },
  {
   "cell_type": "code",
   "execution_count": 18,
   "id": "5ac06b37",
   "metadata": {},
   "outputs": [],
   "source": [
    "IMAGESHAPE = [224, 224, 3]\n",
    "training_data = 'chest_xray/train'\n",
    "testing_data = 'chest_xray/test'\n"
   ]
  },
  {
   "cell_type": "code",
   "execution_count": 23,
   "id": "7e262195",
   "metadata": {},
   "outputs": [
    {
     "name": "stdout",
     "output_type": "stream",
     "text": [
      "['chest_xray/train\\\\NORMAL', 'chest_xray/train\\\\PNEUMONIA']\n"
     ]
    }
   ],
   "source": [
    "classes = glob('chest_xray/train/*')\n",
    "print(classes)"
   ]
  },
  {
   "cell_type": "code",
   "execution_count": 24,
   "id": "fae9abf4",
   "metadata": {},
   "outputs": [],
   "source": [
    "vgg_model = VGG16(input_shape=IMAGESHAPE, weights='imagenet', include_top=False)\n"
   ]
  },
  {
   "cell_type": "code",
   "execution_count": 25,
   "id": "bd5c5f6a",
   "metadata": {},
   "outputs": [],
   "source": [
    "for each_layer in vgg_model.layers:\n",
    "    each_layer.trainable = False\n"
   ]
  },
  {
   "cell_type": "code",
   "execution_count": 6,
   "id": "0d345c14",
   "metadata": {},
   "outputs": [],
   "source": [
    "flatten_layer = Flatten()(vgg_model.output)\n",
    "prediction = Dense(len(classes), activation='softmax')(flatten_layer)\n"
   ]
  },
  {
   "cell_type": "code",
   "execution_count": 7,
   "id": "b410d43d",
   "metadata": {},
   "outputs": [
    {
     "name": "stdout",
     "output_type": "stream",
     "text": [
      "Model: \"model\"\n",
      "_________________________________________________________________\n",
      " Layer (type)                Output Shape              Param #   \n",
      "=================================================================\n",
      " input_1 (InputLayer)        [(None, 224, 224, 3)]     0         \n",
      "                                                                 \n",
      " block1_conv1 (Conv2D)       (None, 224, 224, 64)      1792      \n",
      "                                                                 \n",
      " block1_conv2 (Conv2D)       (None, 224, 224, 64)      36928     \n",
      "                                                                 \n",
      " block1_pool (MaxPooling2D)  (None, 112, 112, 64)      0         \n",
      "                                                                 \n",
      " block2_conv1 (Conv2D)       (None, 112, 112, 128)     73856     \n",
      "                                                                 \n",
      " block2_conv2 (Conv2D)       (None, 112, 112, 128)     147584    \n",
      "                                                                 \n",
      " block2_pool (MaxPooling2D)  (None, 56, 56, 128)       0         \n",
      "                                                                 \n",
      " block3_conv1 (Conv2D)       (None, 56, 56, 256)       295168    \n",
      "                                                                 \n",
      " block3_conv2 (Conv2D)       (None, 56, 56, 256)       590080    \n",
      "                                                                 \n",
      " block3_conv3 (Conv2D)       (None, 56, 56, 256)       590080    \n",
      "                                                                 \n",
      " block3_pool (MaxPooling2D)  (None, 28, 28, 256)       0         \n",
      "                                                                 \n",
      " block4_conv1 (Conv2D)       (None, 28, 28, 512)       1180160   \n",
      "                                                                 \n",
      " block4_conv2 (Conv2D)       (None, 28, 28, 512)       2359808   \n",
      "                                                                 \n",
      " block4_conv3 (Conv2D)       (None, 28, 28, 512)       2359808   \n",
      "                                                                 \n",
      " block4_pool (MaxPooling2D)  (None, 14, 14, 512)       0         \n",
      "                                                                 \n",
      " block5_conv1 (Conv2D)       (None, 14, 14, 512)       2359808   \n",
      "                                                                 \n",
      " block5_conv2 (Conv2D)       (None, 14, 14, 512)       2359808   \n",
      "                                                                 \n",
      " block5_conv3 (Conv2D)       (None, 14, 14, 512)       2359808   \n",
      "                                                                 \n",
      " block5_pool (MaxPooling2D)  (None, 7, 7, 512)         0         \n",
      "                                                                 \n",
      " flatten (Flatten)           (None, 25088)             0         \n",
      "                                                                 \n",
      " dense (Dense)               (None, 2)                 50178     \n",
      "                                                                 \n",
      "=================================================================\n",
      "Total params: 14,764,866\n",
      "Trainable params: 50,178\n",
      "Non-trainable params: 14,714,688\n",
      "_________________________________________________________________\n"
     ]
    }
   ],
   "source": [
    "final_model = Model(inputs=vgg_model.input, outputs=prediction)\n",
    "final_model.summary()\n"
   ]
  },
  {
   "cell_type": "code",
   "execution_count": 8,
   "id": "a7771260",
   "metadata": {},
   "outputs": [],
   "source": [
    "final_model.compile(\n",
    "loss='categorical_crossentropy',\n",
    "optimizer='adam',\n",
    "metrics=['accuracy']\n",
    ")\n"
   ]
  },
  {
   "cell_type": "code",
   "execution_count": 9,
   "id": "7c5818de",
   "metadata": {},
   "outputs": [],
   "source": [
    "from keras.preprocessing.image import ImageDataGenerator\n",
    "train_datagen = ImageDataGenerator(rescale = 1./255,\n",
    "                                shear_range = 0.2,\n",
    "                                zoom_range = 0.2,\n",
    "                                horizontal_flip = True)\n",
    "testing_datagen = ImageDataGenerator(rescale =1. / 255)\n"
   ]
  },
  {
   "cell_type": "code",
   "execution_count": 10,
   "id": "cf91b57d",
   "metadata": {},
   "outputs": [
    {
     "name": "stdout",
     "output_type": "stream",
     "text": [
      "Found 5216 images belonging to 2 classes.\n"
     ]
    }
   ],
   "source": [
    "training_set = train_datagen.flow_from_directory('chest_xray/train',\n",
    "                                                target_size = (224, 224),\n",
    "                                                batch_size = 4,\n",
    "                                                class_mode = 'categorical')\n"
   ]
  },
  {
   "cell_type": "code",
   "execution_count": 11,
   "id": "c124caec",
   "metadata": {},
   "outputs": [
    {
     "name": "stdout",
     "output_type": "stream",
     "text": [
      "Found 624 images belonging to 2 classes.\n"
     ]
    }
   ],
   "source": [
    "test_set = testing_datagen.flow_from_directory('chest_xray/test',\n",
    "                                            target_size = (224, 224),\n",
    "                                            batch_size = 4,\n",
    "                                            class_mode = 'categorical')\n"
   ]
  },
  {
   "cell_type": "code",
   "execution_count": 13,
   "id": "6bd745fa",
   "metadata": {},
   "outputs": [
    {
     "name": "stdout",
     "output_type": "stream",
     "text": [
      "Epoch 1/5\n",
      "1304/1304 [==============================] - 383s 293ms/step - loss: 0.2927 - accuracy: 0.9260 - val_loss: 0.6355 - val_accuracy: 0.8846\n",
      "Epoch 2/5\n",
      "1304/1304 [==============================] - 380s 291ms/step - loss: 0.2992 - accuracy: 0.9452 - val_loss: 0.4655 - val_accuracy: 0.9279\n",
      "Epoch 3/5\n",
      "1304/1304 [==============================] - 370s 284ms/step - loss: 0.2185 - accuracy: 0.9557 - val_loss: 0.5780 - val_accuracy: 0.9119\n",
      "Epoch 4/5\n",
      "1304/1304 [==============================] - 369s 283ms/step - loss: 0.2926 - accuracy: 0.9490 - val_loss: 0.9404 - val_accuracy: 0.8942\n",
      "Epoch 5/5\n",
      "1304/1304 [==============================] - 371s 285ms/step - loss: 0.1969 - accuracy: 0.9611 - val_loss: 0.6800 - val_accuracy: 0.9119\n"
     ]
    }
   ],
   "source": [
    "fitted_model = final_model.fit(\n",
    "training_set,\n",
    "validation_data=test_set,\n",
    "epochs=5,\n",
    "steps_per_epoch=len(training_set),\n",
    "validation_steps=len(test_set)\n",
    ")\n"
   ]
  },
  {
   "cell_type": "code",
   "execution_count": 14,
   "id": "bc978a4d",
   "metadata": {},
   "outputs": [],
   "source": [
    "final_model.save('Pneumonia_model.h5')"
   ]
  },
  {
   "cell_type": "code",
   "execution_count": 21,
   "id": "ab9cb948",
   "metadata": {},
   "outputs": [
    {
     "name": "stdout",
     "output_type": "stream",
     "text": [
      "1/1 [==============================] - 0s 174ms/step\n",
      "Person is affected with Pneumonia.\n",
      "Predictions: [[8.814389e-12 1.000000e+00]]\n"
     ]
    }
   ],
   "source": [
    "import tensorflow as tf\n",
    "from tensorflow.keras.preprocessing import image\n",
    "from keras.models import load_model\n",
    "from keras.applications.vgg16 import preprocess_input\n",
    "import numpy as np\n",
    "model=load_model('Pneumonia_model.h5') #Loading our model\n",
    "img=image.load_img('D:/Engineering/Projects/Pneumonia Prediction/chest_xray/val/PNEUMONIA/person1954_bacteria_4886.jpeg',target_size=(224,224))\n",
    "imagee=image.img_to_array(img) #Converting the X-Ray into pixels\n",
    "imagee=np.expand_dims(imagee, axis=0)\n",
    "img_data=preprocess_input(imagee)\n",
    "prediction=model.predict(img_data)\n",
    "if prediction[0][0]>prediction[0][1]: #Printing the prediction of model.\n",
    "    print('Person is safe.')\n",
    "else:\n",
    "    print('Person is affected with Pneumonia.')\n",
    "print(f'Predictions: {prediction}')\n"
   ]
  },
  {
   "cell_type": "code",
   "execution_count": 12,
   "id": "e8d03d65",
   "metadata": {},
   "outputs": [
    {
     "name": "stdout",
     "output_type": "stream",
     "text": [
      "['NORMAL', 'PNEUMONIA']\n"
     ]
    }
   ],
   "source": [
    "train_dir = 'D:/Engineering/Projects/Pneumonia Prediction/chest_xray/train'\n",
    "class_labels = sorted(os.listdir(train_dir))\n",
    "print(class_labels)"
   ]
  },
  {
   "cell_type": "code",
   "execution_count": 14,
   "id": "bd4a1014",
   "metadata": {},
   "outputs": [
    {
     "name": "stdout",
     "output_type": "stream",
     "text": [
      "PNEUMONIA\n"
     ]
    }
   ],
   "source": [
    "true_label = os.path.basename(os.path.dirname(img_path)).upper()\n",
    "print(true_label)"
   ]
  },
  {
   "cell_type": "code",
   "execution_count": 16,
   "id": "41a9cac7",
   "metadata": {},
   "outputs": [
    {
     "name": "stdout",
     "output_type": "stream",
     "text": [
      "1/1 [==============================] - 0s 151ms/step\n",
      "Prediction: PNEUMONIA\n",
      "Confusion matrix:\n",
      " [[0 0]\n",
      " [0 1]]\n",
      "Classification report:\n",
      "               precision    recall  f1-score   support\n",
      "\n",
      "      NORMAL       0.00      0.00      0.00         0\n",
      "   PNEUMONIA       1.00      1.00      1.00         1\n",
      "\n",
      "   micro avg       1.00      1.00      1.00         1\n",
      "   macro avg       0.50      0.50      0.50         1\n",
      "weighted avg       1.00      1.00      1.00         1\n",
      "\n"
     ]
    }
   ],
   "source": [
    "import tensorflow as tf\n",
    "from tensorflow.keras.preprocessing import image\n",
    "from keras.models import load_model\n",
    "from keras.applications.vgg16 import preprocess_input\n",
    "from sklearn.metrics import confusion_matrix, classification_report\n",
    "import numpy as np\n",
    "import os\n",
    "\n",
    "# Define the test image path\n",
    "img_path = 'D:/Engineering/Projects/Pneumonia Prediction/chest_xray/val/PNEUMONIA/person1954_bacteria_4886.jpeg'\n",
    "\n",
    "# Load the model\n",
    "model = load_model('Pneumonia_model.h5')\n",
    "\n",
    "# Load the test image\n",
    "img = image.load_img(img_path, target_size=(224,224))\n",
    "img_arr = image.img_to_array(img)\n",
    "img_arr = np.expand_dims(img_arr, axis=0)\n",
    "img_data = preprocess_input(img_arr)\n",
    "\n",
    "# Make a prediction\n",
    "preds = model.predict(img_data)\n",
    "class_idx = np.argmax(preds, axis=1)\n",
    "\n",
    "# Extract class labels from the training data directory\n",
    "train_dir = 'D:/Engineering/Projects/Pneumonia Prediction/chest_xray/train'\n",
    "class_labels = sorted(os.listdir(train_dir))\n",
    "\n",
    "# Define the true and predicted labels\n",
    "true_label = os.path.basename(os.path.dirname(img_path)).upper()\n",
    "predicted_label = class_labels[class_idx[0]]\n",
    "\n",
    "# Calculate confusion matrix and classification report\n",
    "cm = confusion_matrix([true_label], [predicted_label], labels=class_labels)\n",
    "cr = classification_report([true_label], [predicted_label], labels=class_labels, target_names=class_labels,zero_division=0)\n",
    "# Print results\n",
    "print(f'Prediction: {predicted_label}')\n",
    "print(f'Confusion matrix:\\n {cm}')\n",
    "print(f'Classification report:\\n {cr}')\n"
   ]
  },
  {
   "cell_type": "code",
   "execution_count": null,
   "id": "e38f2e3e",
   "metadata": {},
   "outputs": [],
   "source": []
  }
 ],
 "metadata": {
  "kernelspec": {
   "display_name": "Python 3 (ipykernel)",
   "language": "python",
   "name": "python3"
  },
  "language_info": {
   "codemirror_mode": {
    "name": "ipython",
    "version": 3
   },
   "file_extension": ".py",
   "mimetype": "text/x-python",
   "name": "python",
   "nbconvert_exporter": "python",
   "pygments_lexer": "ipython3",
   "version": "3.10.0"
  }
 },
 "nbformat": 4,
 "nbformat_minor": 5
}
